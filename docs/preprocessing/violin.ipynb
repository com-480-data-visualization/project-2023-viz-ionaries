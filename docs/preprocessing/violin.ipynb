{
 "cells": [
  {
   "cell_type": "code",
   "execution_count": null,
   "metadata": {},
   "outputs": [],
   "source": [
    "# imports\n",
    "import pandas as pd\n",
    "import numpy as np\n",
    "import matplotlib.pyplot as plt\n",
    "import seaborn as sns"
   ]
  },
  {
   "cell_type": "code",
   "execution_count": null,
   "metadata": {},
   "outputs": [],
   "source": [
    "# Load all the data\n",
    "reviews = pd.read_csv('data/raw/reviews.csv')\n",
    "breweries = pd.read_csv('data/raw/breweries.csv')\n",
    "beers = pd.read_csv('data/raw/beers.csv')\n",
    "aromas = pd.read_csv('data/raw/beer_data_set.csv')"
   ]
  },
  {
   "cell_type": "code",
   "execution_count": null,
   "metadata": {},
   "outputs": [],
   "source": [
    "# Merge reviews and beers\n",
    "reviews_beers = pd.merge(reviews, beers, left_on='beer_id', how='inner', right_on='id')"
   ]
  },
  {
   "cell_type": "code",
   "execution_count": null,
   "metadata": {},
   "outputs": [],
   "source": [
    "reviews_beers.head()"
   ]
  },
  {
   "cell_type": "code",
   "execution_count": null,
   "metadata": {},
   "outputs": [],
   "source": [
    "# merge similar beer styles together in a meta_style column\n",
    "\n",
    "metastyle_beer_dict = dict([\n",
    "    ('IPA', \n",
    "    ['IPA', 'DDHIPA', 'NEIPA']),\n",
    "\n",
    "    ('Ale', \n",
    "    ['Ale']),\n",
    "\n",
    "    ('Sour', \n",
    "    ['Lambic', 'Sour', 'Kvass', 'Gueuze', 'Flanders', 'Gose', 'Sahti', 'Brett', 'Saison', 'Fruit']),\n",
    "\n",
    "    ('Lager', \n",
    "    ['Lager', 'Pilsner', 'Bock', 'Chile', 'Happoshu', 'Pilsener', 'Helles', 'Oktoberfest', 'kölsch']),\n",
    "\n",
    "    ('Stout', \n",
    "    ['Stout', 'Porter']),\n",
    "\n",
    "    ('Smoked Beer', \n",
    "    ['Smoked','Smoke', 'Rauchbier']),\n",
    "\n",
    "    ('Winter Beer', \n",
    "    ['Winter', 'Christmas', 'Pumpkin', 'spice']),\n",
    "\n",
    "    ('Alcohol-free', \n",
    "    ['Low Alcohol Beer']),\n",
    "\n",
    "    ('Belgian Blonde', \n",
    "    ['Dubbel', 'Quadrupel', 'Tripel', 'Belgian']),\n",
    "\n",
    "    ('Wheat Beer', \n",
    "    ['Wheat', 'Weissbier', 'Witbier', 'Hefeweizen', 'Berliner']),\n",
    "\n",
    "    ('Ambree', \n",
    "    ['Altbier', 'Rye']),\n",
    "\n",
    "    ('Boozy', \n",
    "    ['Barleywine', 'Scotch', 'Scottish', 'Champagne', 'Braggot', 'Liquor'])\n",
    "\n",
    "])\n",
    "\n",
    "# Create a function to find the metastyle\n",
    "\n",
    "# make metastyle_beer_dict_lower as a copy of metastyle_beer_dict with lower case values\n",
    "metastyle_beer_dict_lower = {}\n",
    "for key, value in metastyle_beer_dict.items():\n",
    "    metastyle_beer_dict_lower[key] = [x.lower() for x in value]\n",
    "\n",
    "def find_metastyle(specific_style):\n",
    "    for metastyle, beer_substyles in metastyle_beer_dict_lower.items():\n",
    "        for beer_substyle_keyword in beer_substyles:\n",
    "            if beer_substyle_keyword in specific_style:\n",
    "                return metastyle\n",
    "    \n",
    "    return 'Other'"
   ]
  },
  {
   "cell_type": "code",
   "execution_count": null,
   "metadata": {},
   "outputs": [],
   "source": [
    "# Iterate through the styles to find the metastyle\n",
    "# make reviews_beers['style'] as string and lowercased\n",
    "reviews_beers['style'] = reviews_beers['style'].astype(str).str.lower()\n",
    "\n",
    "reviews_beers['meta_style'] = reviews_beers['style'].apply(find_metastyle)\n",
    "reviews_beers.sample(5)"
   ]
  },
  {
   "cell_type": "code",
   "execution_count": null,
   "metadata": {},
   "outputs": [],
   "source": [
    "# Print the number of beers in each metastyle\n",
    "print(reviews_beers['meta_style'].value_counts())\n",
    "# Print the styles in other metastyle and sort\n",
    "print(reviews_beers[reviews_beers['meta_style'] == 'Other']['style'].value_counts().sort_values(ascending=False))\n",
    "reviews_beers.head()"
   ]
  },
  {
   "cell_type": "code",
   "execution_count": null,
   "metadata": {},
   "outputs": [],
   "source": [
    "# group by beer id and keep the metastyle\n",
    "from scipy.stats import mode\n",
    "\n",
    "def get_majority(series):\n",
    "    try:\n",
    "        return mode(series)[0][0]\n",
    "    except:\n",
    "        return 'N/A'  # Default value when mode is not available\n",
    "    \n",
    "reviews_beers['review_scores'] = reviews_beers['score']\n",
    "\n",
    "reviews_beers_grouped = reviews_beers.groupby('beer_id').agg({'review_scores': 'mean', 'meta_style': 'first', 'country': get_majority, 'state': get_majority})\n",
    "reviews_beers_grouped.head(5)"
   ]
  },
  {
   "cell_type": "code",
   "execution_count": null,
   "metadata": {},
   "outputs": [],
   "source": [
    "reviews_beers_grouped.head(20)"
   ]
  },
  {
   "cell_type": "code",
   "execution_count": null,
   "metadata": {},
   "outputs": [],
   "source": [
    "reviews_beers_grouped_copy = reviews_beers_grouped.copy().reset_index()\n",
    "reviews_beers_grouped_copy.drop(['beer_id'], axis=1, inplace=True)\n",
    "reviews_beers_grouped_copy"
   ]
  },
  {
   "cell_type": "code",
   "execution_count": null,
   "metadata": {},
   "outputs": [],
   "source": [
    "reviews_beers_grouped_copy['mean_rating'] = reviews_beers_grouped_copy['review_scores']\n",
    "reviews_beers_grouped_copy['count_rating'] = reviews_beers_grouped_copy['review_scores']\n",
    "# Extract us beers\n",
    "us_beers = reviews_beers_grouped_copy[reviews_beers_grouped_copy['country'] == 'US']\n",
    "# Groupby state and metastyle\n",
    "us_beers_grouped = us_beers.groupby(['state', 'meta_style']).agg({'mean_rating': 'mean', 'count_rating': 'count'})\n",
    "us_beers_grouped.reset_index(inplace=True)\n",
    "# Create a \"relative count\" column where the count is divided by the sum of the counts for that state\n",
    "us_beers_grouped['relative_count'] = us_beers_grouped.groupby('state')['count_rating'].apply(lambda x: x / x.sum())\n",
    "us_beers_grouped.head(5)"
   ]
  },
  {
   "cell_type": "code",
   "execution_count": null,
   "metadata": {},
   "outputs": [],
   "source": [
    "# print the range of relative_count\n",
    "print(us_beers_grouped['relative_count'].min())\n",
    "print(us_beers_grouped['relative_count'].max())"
   ]
  },
  {
   "cell_type": "code",
   "execution_count": null,
   "metadata": {},
   "outputs": [],
   "source": [
    "# Remove countries that have less than 10 beers, only keep european continent countries\n",
    "# Add Andorra Isle of Man, Albania, Macedonia, Moldova, San Marino, Faroe Islands, Bosnia and Herzegovina, Montenegro, Belarus, Greece, Monaco, Ukraine, United Kingdom, Serbia\n",
    "\n",
    "european_country_codes = ['BE', 'BG', 'CZ', 'DK', 'DE', 'EE', 'IE', 'EL', 'ES', 'FR', 'HR', 'IT', 'CY', 'LV', 'LT', 'LU', 'HU', 'MT', 'NL',\n",
    "                           'AT', 'PL', 'PT', 'RO', 'SI', 'SK', 'FI', 'SE', 'UK', 'IS', 'LI', 'NO', 'CH', 'ME', 'RS', 'MK', 'AL', 'BA', 'MD',\n",
    "                            'UA', 'BY', 'AD', 'IM', 'SM', 'FO', 'GR', 'MC', 'GB']\n",
    "\n",
    "\n",
    "reviews_beers_grouped_reduced = reviews_beers_grouped_copy.groupby('country').filter(lambda x: len(x) > 10)\n",
    "reviews_beers_grouped_reduced = reviews_beers_grouped_reduced[reviews_beers_grouped_reduced['country'].isin(european_country_codes)]\n",
    "\n",
    "country_beers = reviews_beers_grouped_reduced.groupby(['country', 'meta_style']).agg({'mean_rating': 'mean', 'count_rating': 'count'})\n",
    "country_beers.reset_index(inplace=True)\n",
    "\n",
    "country_beers['relative_count'] = country_beers.groupby('country')['count_rating'].apply(lambda x: x / x.sum())\n",
    "country_beers.head(5)"
   ]
  },
  {
   "cell_type": "code",
   "execution_count": null,
   "metadata": {},
   "outputs": [],
   "source": [
    "eu_dict_code_to_name = {\n",
    "    'BE': 'Belgium',\n",
    "    'BG': 'Bulgaria',\n",
    "    'CZ': 'Czech Republic',\n",
    "    'DK': 'Denmark',\n",
    "    'DE': 'Germany',\n",
    "    'EE': 'Estonia',\n",
    "    'IE': 'Ireland',\n",
    "    'EL': 'Greece',\n",
    "    'ES': 'Spain',\n",
    "    'FR': 'France',\n",
    "    'HR': 'Croatia',\n",
    "    'IT': 'Italy',\n",
    "    'CY': 'Cyprus',\n",
    "    'LV': 'Latvia',\n",
    "    'LT': 'Lithuania',\n",
    "    'LU': 'Luxembourg',\n",
    "    'HU': 'Hungary',\n",
    "    'MT': 'Malta',\n",
    "    'NL': 'Netherlands',\n",
    "    'AT': 'Austria',\n",
    "    'PL': 'Poland',\n",
    "    'PT': 'Portugal',\n",
    "    'RO': 'Romania',\n",
    "    'SI': 'Slovenia',\n",
    "    'SK': 'Slovakia',\n",
    "    'FI': 'Finland',\n",
    "    'SE': 'Sweden',\n",
    "    'UK': 'United Kingdom',\n",
    "    'IS': 'Iceland',\n",
    "    'LI': 'Liechtenstein',\n",
    "    'NO': 'Norway',\n",
    "    'CH': 'Switzerland',\n",
    "    'ME': 'Montenegro',\n",
    "    'RS': 'Serbia',\n",
    "    'MK': 'Macedonia',\n",
    "    'AL': 'Albania',\n",
    "    'BA': 'Bosnia and Herzegovina',\n",
    "    'MD': 'Moldova',\n",
    "    'UA': 'Ukraine',\n",
    "    'BY': 'Belarus',\n",
    "    'AD': 'Andorra',\n",
    "    'IM': 'Isle of Man',\n",
    "    'SM': 'San Marino',\n",
    "    'FO': 'Faroe Islands',\n",
    "    'GR': 'Greece',\n",
    "    'MC': 'Monaco',\n",
    "    'GB': 'United Kingdom'\n",
    "}\n",
    "\n",
    "state_dict_code_to_name = {\n",
    "    'AL': 'Alabama', 'AK': 'Alaska', 'AZ': 'Arizona', 'AR': 'Arkansas', 'CA': 'California', \n",
    "    'CO': 'Colorado', 'CT': 'Connecticut', 'DE': 'Delaware', 'FL': 'Florida', 'GA': 'Georgia',\n",
    "    'HI': 'Hawaii', 'ID': 'Idaho', 'IL': 'Illinois', 'IN': 'Indiana', 'IA': 'Iowa',\n",
    "    'KS': 'Kansas', 'KY': 'Kentucky', 'LA': 'Louisiana', 'ME': 'Maine', 'MD': 'Maryland',\n",
    "    'MA': 'Massachusetts', 'MI': 'Michigan', 'MN': 'Minnesota', 'MS': 'Mississippi', 'MO': 'Missouri',\n",
    "    'MT': 'Montana', 'NE': 'Nebraska', 'NV': 'Nevada', 'NH': 'New Hampshire', 'NJ': 'New Jersey',\n",
    "    'NM': 'New Mexico', 'NY': 'New York', 'NC': 'North Carolina', 'ND': 'North Dakota', 'OH': 'Ohio',\n",
    "    'OK': 'Oklahoma', 'OR': 'Oregon', 'PA': 'Pennsylvania', 'RI': 'Rhode Island', 'SC': 'South Carolina',\n",
    "    'SD': 'South Dakota', 'TN': 'Tennessee', 'TX': 'Texas', 'UT': 'Utah', 'VT': 'Vermont',\n",
    "    'VA': 'Virginia', 'WA': 'Washington', 'WV': 'West Virginia', 'WI': 'Wisconsin', 'WY': 'Wyoming',\n",
    "    'DC': 'District of Columbia'\n",
    "}\n",
    "print(\"check if same length eu: \", len(eu_dict_code_to_name) == len(european_country_codes))\n",
    "print(\"check if same length us: \", len(state_dict_code_to_name) == len(us_beers_grouped['state'].unique()))"
   ]
  },
  {
   "cell_type": "code",
   "execution_count": null,
   "metadata": {},
   "outputs": [],
   "source": [
    "# rename country and state to country_code and state_code\n",
    "country_beers.rename(columns={'country': 'country_code'}, inplace=True)\n",
    "us_beers_grouped.rename(columns={'state': 'state_code'}, inplace=True)"
   ]
  },
  {
   "cell_type": "code",
   "execution_count": null,
   "metadata": {},
   "outputs": [],
   "source": [
    "us_beers_grouped.head(5)"
   ]
  },
  {
   "cell_type": "code",
   "execution_count": null,
   "metadata": {},
   "outputs": [],
   "source": [
    "# plot mean_rating distribution for both datasets\n",
    "fig, ax = plt.subplots(1, 2, figsize=(15, 5))\n",
    "sns.distplot(country_beers['mean_rating'], ax=ax[0])\n",
    "sns.distplot(us_beers_grouped['mean_rating'], ax=ax[1])\n",
    "ax[0].set_title('European Beers')\n",
    "ax[1].set_title('US Beers')\n",
    "plt.show()\n"
   ]
  },
  {
   "cell_type": "code",
   "execution_count": null,
   "metadata": {},
   "outputs": [],
   "source": [
    "# plot relative_count distribution for both datasets\n",
    "fig, ax = plt.subplots(1, 2, figsize=(15, 5))\n",
    "sns.distplot(country_beers['relative_count'], ax=ax[0])\n",
    "sns.distplot(us_beers_grouped['relative_count'], ax=ax[1])\n",
    "ax[0].set_title('European Beers')\n",
    "ax[1].set_title('US Beers')"
   ]
  },
  {
   "cell_type": "code",
   "execution_count": null,
   "metadata": {},
   "outputs": [],
   "source": [
    "# save the data in a csv file, us_beers_grouped and country_beers\n",
    "country_beers.to_csv('country_beers.csv', index=False)\n",
    "us_beers_grouped.to_csv('us_beers.csv', index=False)"
   ]
  },
  {
   "cell_type": "code",
   "execution_count": null,
   "metadata": {},
   "outputs": [],
   "source": [
    "print(country_beers['relative_count'].min())\n",
    "print(country_beers['relative_count'].max())\n",
    "# print the max row\n",
    "country_beers[country_beers['relative_count'] == country_beers['relative_count'].max()]"
   ]
  },
  {
   "cell_type": "code",
   "execution_count": null,
   "metadata": {},
   "outputs": [],
   "source": [
    "# create a new column with the average of the review_overall\n",
    "reviews_beers['review_scores'] = reviews_beers['score']\n",
    "\n",
    "grouped_reviews = reviews_beers.groupby(['country', 'meta_style']).agg({'review_scores': ['mean', 'count']})\n",
    "grouped_reviews"
   ]
  },
  {
   "cell_type": "code",
   "execution_count": null,
   "metadata": {},
   "outputs": [],
   "source": [
    "reviews_beers.columns"
   ]
  },
  {
   "cell_type": "code",
   "execution_count": null,
   "metadata": {},
   "outputs": [],
   "source": [
    "# Drop unnecessary columns\n",
    "reviews_beers = reviews_beers.drop(['username', 'date', 'text', 'look', 'smell', 'taste', 'feel', 'score', 'id', 'name', 'brewery_id', 'availability', 'notes', 'retired'], axis=1)\n",
    "# group by beer_id and get the mean of the review_overall, reset index\n",
    "reviews_beers = reviews_beers.groupby('beer_id').mean().reset_index()\n",
    "reviews_beers.head()"
   ]
  },
  {
   "cell_type": "code",
   "execution_count": null,
   "metadata": {},
   "outputs": [],
   "source": [
    "# Groupby beers\n",
    "reviews_beers.columns"
   ]
  },
  {
   "cell_type": "code",
   "execution_count": null,
   "metadata": {},
   "outputs": [],
   "source": [
    "# merge reviews_beers and breweries\n",
    "reviews_beers_breweries = pd.merge(reviews_beers, breweries, left_on='beer_id', how='inner', right_on='id')"
   ]
  },
  {
   "cell_type": "code",
   "execution_count": null,
   "metadata": {},
   "outputs": [],
   "source": [
    "merged_beers = pd.merge(beers, breweries, how='inner', left_on='brewery_id', right_on='id', suffixes=('_beer', '_brewery'))\n",
    "\n",
    "merged_aromas = pd.merge(merged_beers, aromas, how='inner' ,left_on='name_beer', right_on='Name')\n",
    "\n",
    "# Only keep rows where merged_aromas is equal to Brewery\n",
    "merged_aromas = merged_aromas[merged_aromas['Brewery'] == merged_aromas['name_brewery']]\n",
    "merged_aromas = merged_aromas.drop(['Brewery', 'Name', 'id_brewery', 'state_beer', 'country_beer'], axis=1)\\\n",
    "    .rename(columns={'state_brewery': 'state', 'country_brewery': 'country', 'id_beer': 'beer_id'})"
   ]
  },
  {
   "cell_type": "code",
   "execution_count": null,
   "metadata": {},
   "outputs": [],
   "source": [
    "# merge similar beer styles together in a meta_style column\n",
    "\n",
    "from utils.beer_metastyles import metastyle_beer_dict\n",
    "\n",
    "# Create a new column for meta_style\n",
    "merged_aromas['meta_style'] = merged_aromas['style']\n",
    "\n",
    "# Create a function to find the metastyle\n",
    "\n",
    "def find_metastyle(specific_style):\n",
    "    for metastyle, beer_substyles in metastyle_beer_dict.items():\n",
    "        for beer_substyle_keyword in beer_substyles:\n",
    "            if beer_substyle_keyword in specific_style:\n",
    "                return metastyle\n",
    "    \n",
    "    return 'Other'\n",
    "\n",
    "# Iterate through the styles to find the metastyle\n",
    "\n",
    "merged_aromas['meta_style'] = merged_aromas['style'].apply(find_metastyle)"
   ]
  },
  {
   "cell_type": "code",
   "execution_count": null,
   "metadata": {},
   "outputs": [],
   "source": [
    "# Normalize each column\n",
    "merged_aromas_norm = merged_aromas.copy()\n",
    "merged_aromas_norm['Astringency'] = (merged_aromas_norm['Astringency'] - merged_aromas_norm['Astringency'].mean()) / merged_aromas_norm['Astringency'].std()\n",
    "merged_aromas_norm['Body'] = (merged_aromas_norm['Body'] - merged_aromas_norm['Body'].mean()) / merged_aromas_norm['Body'].std()\n",
    "merged_aromas_norm['Alcohol'] = (merged_aromas_norm['Alcohol'] - merged_aromas_norm['Alcohol'].mean()) / merged_aromas_norm['Alcohol'].std()\n",
    "merged_aromas_norm['Bitter'] = (merged_aromas_norm['Bitter'] - merged_aromas_norm['Bitter'].mean()) / merged_aromas_norm['Bitter'].std()\n",
    "merged_aromas_norm['Sweet'] = (merged_aromas_norm['Sweet'] - merged_aromas_norm['Sweet'].mean()) / merged_aromas_norm['Sweet'].std()\n",
    "merged_aromas_norm['Sour'] = (merged_aromas_norm['Sour'] - merged_aromas_norm['Sour'].mean()) / merged_aromas_norm['Sour'].std()\n",
    "merged_aromas_norm['Salty'] = (merged_aromas_norm['Salty'] - merged_aromas_norm['Salty'].mean()) / merged_aromas_norm['Salty'].std()\n",
    "merged_aromas_norm['Fruits'] = (merged_aromas_norm['Fruits'] - merged_aromas_norm['Fruits'].mean()) / merged_aromas_norm['Fruits'].std()\n",
    "merged_aromas_norm['Hoppy'] = (merged_aromas_norm['Hoppy'] - merged_aromas_norm['Hoppy'].mean()) / merged_aromas_norm['Hoppy'].std()\n",
    "merged_aromas_norm['Spices'] = (merged_aromas_norm['Spices'] - merged_aromas_norm['Spices'].mean()) / merged_aromas_norm['Spices'].std()\n",
    "merged_aromas_norm['Malty'] = (merged_aromas_norm['Malty'] - merged_aromas_norm['Malty'].mean()) / merged_aromas_norm['Malty'].std()"
   ]
  },
  {
   "cell_type": "code",
   "execution_count": null,
   "metadata": {},
   "outputs": [],
   "source": [
    "# Make columns from 0 to 1 \n",
    "merged_aromas_norm['Astringency'] = (merged_aromas_norm['Astringency'] - merged_aromas_norm['Astringency'].min()) / (merged_aromas_norm['Astringency'].max() - merged_aromas_norm['Astringency'].min())\n",
    "merged_aromas_norm['Body'] = (merged_aromas_norm['Body'] - merged_aromas_norm['Body'].min()) / (merged_aromas_norm['Body'].max() - merged_aromas_norm['Body'].min())\n",
    "merged_aromas_norm['Alcohol'] = (merged_aromas_norm['Alcohol'] - merged_aromas_norm['Alcohol'].min()) / (merged_aromas_norm['Alcohol'].max() - merged_aromas_norm['Alcohol'].min())\n",
    "merged_aromas_norm['Bitter'] = (merged_aromas_norm['Bitter'] - merged_aromas_norm['Bitter'].min()) / (merged_aromas_norm['Bitter'].max() - merged_aromas_norm['Bitter'].min())\n",
    "merged_aromas_norm['Sweet'] = (merged_aromas_norm['Sweet'] - merged_aromas_norm['Sweet'].min()) / (merged_aromas_norm['Sweet'].max() - merged_aromas_norm['Sweet'].min())\n",
    "merged_aromas_norm['Sour'] = (merged_aromas_norm['Sour'] - merged_aromas_norm['Sour'].min()) / (merged_aromas_norm['Sour'].max() - merged_aromas_norm['Sour'].min())\n",
    "merged_aromas_norm['Salty'] = (merged_aromas_norm['Salty'] - merged_aromas_norm['Salty'].min()) / (merged_aromas_norm['Salty'].max() - merged_aromas_norm['Salty'].min())\n",
    "merged_aromas_norm['Fruits'] = (merged_aromas_norm['Fruits'] - merged_aromas_norm['Fruits'].min()) / (merged_aromas_norm['Fruits'].max() - merged_aromas_norm['Fruits'].min())\n",
    "merged_aromas_norm['Hoppy'] = (merged_aromas_norm['Hoppy'] - merged_aromas_norm['Hoppy'].min()) / (merged_aromas_norm['Hoppy'].max() - merged_aromas_norm['Hoppy'].min())\n",
    "merged_aromas_norm['Spices'] = (merged_aromas_norm['Spices'] - merged_aromas_norm['Spices'].min()) / (merged_aromas_norm['Spices'].max() - merged_aromas_norm['Spices'].min())\n",
    "merged_aromas_norm['Malty'] = (merged_aromas_norm['Malty'] - merged_aromas_norm['Malty'].min()) / (merged_aromas_norm['Malty'].max() - merged_aromas_norm['Malty'].min())"
   ]
  },
  {
   "cell_type": "code",
   "execution_count": null,
   "metadata": {},
   "outputs": [],
   "source": [
    "merged_aromas_norm.describe()"
   ]
  },
  {
   "cell_type": "code",
   "execution_count": null,
   "metadata": {},
   "outputs": [],
   "source": [
    "merged_aromas_norm"
   ]
  },
  {
   "cell_type": "code",
   "execution_count": null,
   "metadata": {},
   "outputs": [],
   "source": [
    "merged_aromas.head()"
   ]
  },
  {
   "cell_type": "code",
   "execution_count": null,
   "metadata": {},
   "outputs": [],
   "source": [
    "merged_aromas.describe()"
   ]
  },
  {
   "cell_type": "code",
   "execution_count": null,
   "metadata": {},
   "outputs": [],
   "source": [
    "merged_aromas.columns"
   ]
  },
  {
   "cell_type": "code",
   "execution_count": null,
   "metadata": {},
   "outputs": [],
   "source": [
    "# print the number of unique beers in reviews\n",
    "print('Number of unique beers in reviews: ', len(reviews['beer_id'].unique()))"
   ]
  },
  {
   "cell_type": "code",
   "execution_count": null,
   "metadata": {},
   "outputs": [],
   "source": [
    "merged_reviews = pd.merge(reviews, merged_aromas_norm, how='inner', on='beer_id')"
   ]
  },
  {
   "cell_type": "code",
   "execution_count": null,
   "metadata": {},
   "outputs": [],
   "source": [
    "merged_reviews.head()"
   ]
  },
  {
   "cell_type": "code",
   "execution_count": null,
   "metadata": {},
   "outputs": [],
   "source": [
    "merged_reviews.columns"
   ]
  },
  {
   "cell_type": "code",
   "execution_count": null,
   "metadata": {},
   "outputs": [],
   "source": [
    "# Group all reviews by country and meta_style\n",
    "us_meta_style_aromas = merged_aromas[merged_aromas['country'] == 'US'].groupby(['state', 'meta_style']).mean()\n",
    "country_meta_style_aromas = merged_aromas.groupby(['country', 'meta_style']).mean()\n",
    "\n",
    "# Drop brewery_id, beer_id, key, Style Key, ABV and review_time157750708\n",
    "us_meta_style_aromas = us_meta_style_aromas.drop(['brewery_id', 'beer_id', 'key', 'Style Key', 'abv'], axis=1)\n",
    "country_meta_style_aromas = country_meta_style_aromas.drop(['brewery_id', 'beer_id', 'key', 'Style Key', 'abv'], axis=1)\n",
    "country_meta_style_aromas"
   ]
  },
  {
   "cell_type": "code",
   "execution_count": null,
   "metadata": {},
   "outputs": [],
   "source": [
    "us_meta_style_aromas"
   ]
  },
  {
   "cell_type": "code",
   "execution_count": null,
   "metadata": {},
   "outputs": [],
   "source": [
    "merged_reviews['overall']"
   ]
  },
  {
   "cell_type": "code",
   "execution_count": null,
   "metadata": {},
   "outputs": [],
   "source": [
    "# find the closest 0.5 increment review score \n",
    "merged_reviews['overall_step'] = np.round(merged_reviews['overall'] * 2) / 2"
   ]
  },
  {
   "cell_type": "code",
   "execution_count": null,
   "metadata": {},
   "outputs": [],
   "source": [
    "merged_reviews.columns"
   ]
  },
  {
   "cell_type": "code",
   "execution_count": null,
   "metadata": {},
   "outputs": [],
   "source": [
    "\n"
   ]
  },
  {
   "cell_type": "code",
   "execution_count": null,
   "metadata": {},
   "outputs": [],
   "source": [
    "#drop columns unrelated to the violin plot\n",
    "styles_to_analyze = ['Lager', 'Stout', 'IPA']\n",
    "# Astringency, Body, Alcohol, Bitter, Sweet, Sour, Salty; Fruits, Hoppy, Spices, Malty \n",
    "reduced_df = merged_reviews[merged_reviews['overall'] >= 3]\n",
    "reduced_df = reduced_df.drop(['Alcohol','Body','Style','style','taste', 'feel', 'score','username', 'text', 'smell','date','look','brewery_id', 'beer_id', 'key', 'Style Key', 'abv', 'state', 'country', 'overall', 'retired', 'Description', 'notes_brewery', 'city', 'name_brewery', 'availability', 'Min IBU', 'Max IBU', 'name_beer', 'notes_beer', 'types'], axis=1)\n",
    "reduced_df.columns"
   ]
  },
  {
   "cell_type": "code",
   "execution_count": null,
   "metadata": {},
   "outputs": [],
   "source": [
    "aromas_to_analyze = ['Astringency', 'Bitter', 'Sweet', 'Sour', 'Salty', 'Fruits', 'Hoppy', 'Spices', 'Malty']\n",
    "\n",
    "df_s = []\n",
    "\n",
    "for aroma in aromas_to_analyze:\n",
    "    df = reduced_df.groupby(['meta_style', 'overall_step'])[aroma].apply(lambda x: np.histogram(x, bins=20)).reset_index()\n",
    "    hist_values = df[aroma].apply(lambda x: x[0])\n",
    "    hist_bins = df[aroma].apply(lambda x: x[1])\n",
    "    hist_data = pd.concat([hist_values, hist_bins], axis=1)\n",
    "    hist_data.columns = ['Histogram', 'Bins']\n",
    "    hist_data = hist_data.reset_index(drop=True)\n",
    "    hist_data['Aroma'] = aroma\n",
    "    df_s.append(hist_data)\n",
    "\n",
    "df_s[8]"
   ]
  },
  {
   "cell_type": "code",
   "execution_count": null,
   "metadata": {},
   "outputs": [],
   "source": [
    "df_s = []\n",
    "keys = list(metastyle_beer_dict.keys())\n",
    "keys.remove('Alcohol-free')\n",
    "i = 0\n",
    "for style in keys:\n",
    "    for aroma in aromas_to_analyze:\n",
    "        df = reduced_df[reduced_df['meta_style'] == style].groupby(['overall_step'])[aroma].apply(lambda x: np.histogram(x, bins=20)).reset_index()\n",
    "        hist_values = df[aroma].apply(lambda x: x[0])\n",
    "        hist_bins = df[aroma].apply(lambda x: x[1])\n",
    "        hist_data = pd.concat([hist_values, hist_bins], axis=1)\n",
    "        hist_data.columns = ['Histogram', 'Bins']\n",
    "        hist_data = hist_data.reset_index(drop=True)\n",
    "        df_s.append(hist_data)\n",
    "        i = i + 1\n",
    "        if(i == 82):\n",
    "            print(aroma)\n",
    "            print(style)"
   ]
  },
  {
   "cell_type": "code",
   "execution_count": null,
   "metadata": {},
   "outputs": [],
   "source": [
    "keys"
   ]
  },
  {
   "cell_type": "code",
   "execution_count": null,
   "metadata": {},
   "outputs": [],
   "source": [
    "i = 0\n",
    "for style in keys:\n",
    "    for aroma in aromas_to_analyze:\n",
    "        df_s[i].to_csv('data/website_preparation/vio/hist_{}_{}.csv'.format(style, aroma), index=False)\n",
    "\n",
    "        i = i + 1"
   ]
  },
  {
   "cell_type": "code",
   "execution_count": null,
   "metadata": {},
   "outputs": [],
   "source": [
    "for df in df_s:\n",
    "    if(df.empty != False):\n",
    "        print(df)\n",
    "        aroma = df['Aroma'].iloc[0]\n",
    "        meta_style = df['Meta Style'].iloc[0]\n",
    "        df.drop(['Aroma', 'Meta Style'], axis=1).to_csv('data/website_preparation/vio/aroma_hist_{}_{}.csv'.format(meta_style, aroma), index=False)"
   ]
  },
  {
   "cell_type": "code",
   "execution_count": null,
   "metadata": {},
   "outputs": [],
   "source": [
    "reduced_df.to_csv('data/website_preparation/violin_df.csv', index=False)"
   ]
  },
  {
   "cell_type": "code",
   "execution_count": null,
   "metadata": {},
   "outputs": [],
   "source": [
    "hist_data.to_csv('data/website_preparation/violin_grouped_df.csv', index=False)"
   ]
  },
  {
   "cell_type": "code",
   "execution_count": null,
   "metadata": {},
   "outputs": [],
   "source": [
    "styles_to_analyze = ['Lager', 'Stout', 'IPA']\n",
    "# Astringency, Body, Alcohol, Bitter, Sweet, Sour, Salty; Fruits, Hoppy, Spices, Malty \n",
    "aroma_to_analyze = 'Sour'\n",
    "\n",
    "#######################\n",
    "# Aroma vs. Overall Step, print only where reviews are >= 3\n",
    "#reduced_df = merged_reviews[merged_reviews['overall'] >= 3]\n",
    "#reduced_df = reduced_df[reduced_df['meta_style'].isin(styles_to_analyze)]\n",
    "\n",
    "fig, axs = plt.subplots(figsize=(15, 10))\n",
    "sns.violinplot(x='overall_step', y=aroma_to_analyze, hue= 'meta_style', data=reduced_df, ax = axs)\n",
    "sns.pointplot(x='overall_step', y=aroma_to_analyze, hue= 'meta_style', data=reduced_df, dodge=True, join=True, palette='dark', markers='d', scale=1.5,  ax = axs)\n",
    "plt.title('Aroma vs. Rating')\n",
    "plt.xlabel('Rating')\n",
    "\n",
    "plt.show()\n"
   ]
  },
  {
   "cell_type": "code",
   "execution_count": null,
   "metadata": {},
   "outputs": [],
   "source": [
    "from psmpy import PsmPy\n",
    "from psmpy.functions import cohenD\n",
    "from psmpy.plotting import *"
   ]
  },
  {
   "cell_type": "code",
   "execution_count": null,
   "metadata": {},
   "outputs": [],
   "source": [
    "merged_aromas.columns"
   ]
  },
  {
   "cell_type": "code",
   "execution_count": null,
   "metadata": {},
   "outputs": [],
   "source": [
    "avg_aromas_per_style = merged_aromas_norm.groupby('meta_style').mean()\n",
    "avg_aromas_per_style = avg_aromas_per_style[['Astringency', 'Body', 'Alcohol', 'Bitter', 'Sweet', 'Sour', 'Salty', 'Fruits', 'Hoppy', 'Spices', 'Malty']]\n",
    "avg_aromas_per_style"
   ]
  },
  {
   "cell_type": "code",
   "execution_count": null,
   "metadata": {},
   "outputs": [],
   "source": [
    "threshold = 0.3\n",
    "prevalent_aromas_per_style = avg_aromas_per_style.copy()\n",
    "prevalent_aromas_per_style[prevalent_aromas_per_style < threshold] = 0\n",
    "prevalent_aromas_per_style[prevalent_aromas_per_style >= threshold] = 1\n",
    "\n",
    "names_that_appear = []\n",
    "for style in avg_aromas_per_style.index:\n",
    "    names_that_appear.append(prevalent_aromas_per_style.columns[prevalent_aromas_per_style.loc[style] == 1].tolist())\n",
    "    print(style, prevalent_aromas_per_style.columns[prevalent_aromas_per_style.loc[style] == 1].tolist())\n",
    "\n",
    "names_that_appear = [item for sublist in names_that_appear for item in sublist]\n",
    "names_that_appear = list(set(names_that_appear))\n",
    "names_that_appear"
   ]
  },
  {
   "cell_type": "code",
   "execution_count": null,
   "metadata": {},
   "outputs": [],
   "source": [
    "most_prevalent_aroma = []\n",
    "for style in prevalent_aromas_per_style.index:\n",
    "    most_prevalent_aroma.append(avg_aromas_per_style.columns[avg_aromas_per_style.loc[style] == avg_aromas_per_style.loc[style].max()].tolist())\n",
    "    print(style, avg_aromas_per_style.columns[avg_aromas_per_style.loc[style] == avg_aromas_per_style.loc[style].max()].tolist())"
   ]
  },
  {
   "cell_type": "code",
   "execution_count": null,
   "metadata": {},
   "outputs": [],
   "source": [
    "dict_colour_aromas = {'Astringency': 'black', 'Body': 'blue', 'Alcohol': 'green', 'Bitter': 'orange', 'Sweet': 'purple', 'Sour': 'yellow', 'Salty': 'white', 'Fruits': 'red', 'Hoppy': 'olive', 'Spices': 'orange', 'Malty': 'pink'}\n",
    "colour_per_beer_type = []\n",
    "\n",
    "# add the most prevalent aroma colour\n",
    "for style in prevalent_aromas_per_style.index:\n",
    "    colour_per_beer_type.append(dict_colour_aromas[most_prevalent_aroma[avg_aromas_per_style.index.tolist().index(style)][0]])"
   ]
  },
  {
   "cell_type": "code",
   "execution_count": null,
   "metadata": {},
   "outputs": [],
   "source": [
    "# Display all the aroma names, with their colour as background\n",
    "fig, axs = plt.subplots(3,4,figsize=(3, 3))\n",
    "axs = axs.ravel()\n",
    "i = 0\n",
    "for aroma, colour in dict_colour_aromas.items():\n",
    "    axs[i].set_facecolor(colour)\n",
    "    axs[i].set_title(aroma)\n",
    "    axs[i].set_xticks([])\n",
    "    axs[i].set_yticks([])\n",
    "    # remove grid lines\n",
    "    axs[i].grid(False)\n",
    "    \n",
    "    i += 1\n",
    "axs[i].set_facecolor('white')\n",
    "axs[i].set_title(' ')\n",
    "axs[i].set_xticks([])\n",
    "axs[i].set_yticks([])\n",
    "axs[i].grid(False)\n",
    "plt.tight_layout()"
   ]
  },
  {
   "cell_type": "code",
   "execution_count": null,
   "metadata": {},
   "outputs": [],
   "source": [
    "style_similarity = pd.DataFrame(index=avg_aromas_per_style.index, columns=avg_aromas_per_style.index)\n",
    "\n",
    "# import cohenD from psmpy.functions\n",
    "from psmpy.functions import cohenD\n",
    "\n",
    "def distance(val1, val2, metric = 'euclidean'):\n",
    "    if metric == 'euclidean':\n",
    "        return np.sqrt(np.sum(np.square(val1 - val2)))\n",
    "    elif metric == 'manhattan':\n",
    "        return np.sum(np.abs(val1 - val2))\n",
    "    elif metric == 'cosine':\n",
    "        return 1 - np.dot(val1, val2) / (np.sqrt(np.dot(val1, val1)) * np.sqrt(np.dot(val2, val2)))\n",
    "    elif metric == 'jaccard':\n",
    "        return 1 - np.sum(np.minimum(val1, val2)) / np.sum(np.maximum(val1, val2))\n",
    "    \n",
    "\n",
    "def compute_similarity(style1, style2):\n",
    "    style1_values = avg_aromas_per_style.loc[style1]\n",
    "    style2_values = avg_aromas_per_style.loc[style2]\n",
    "\n",
    "    score_list = []\n",
    "    \n",
    "    for aroma in avg_aromas_per_style.columns:\n",
    "        score_list.append(distance(style1_values[aroma], style2_values[aroma], metric='euclidean'))\n",
    "    \n",
    "    return score_list\n",
    "\n",
    "for style1 in avg_aromas_per_style.index:\n",
    "    for style2 in avg_aromas_per_style.index:\n",
    "        style_similarity.loc[style1, style2] = compute_similarity(style1, style2)\n"
   ]
  },
  {
   "cell_type": "code",
   "execution_count": null,
   "metadata": {},
   "outputs": [],
   "source": [
    "\n",
    "style_similarity_mean_per_cell = style_similarity.copy()\n",
    "style_similarity_mean_per_cell = style_similarity_mean_per_cell.applymap(np.mean)\n",
    "# invert the values (the lower the value, the more similar the styles), avoid division by 0\n",
    "style_similarity_mean_per_cell = style_similarity_mean_per_cell.applymap(lambda x: 1/x if x != 0 else None)\n",
    "\n",
    "# Drop the Other column and Row\n",
    "style_similarity_mean_per_cell = style_similarity_mean_per_cell.drop('Other', axis=0)\n",
    "style_similarity_mean_per_cell = style_similarity_mean_per_cell.drop('Other', axis=1)\n",
    "\n",
    "# normalize with mean and std style_similarity_mean_per_cell between 0 and 1\n",
    "style_similarity_mean_per_cell = style_similarity_mean_per_cell.applymap(lambda x: (x - style_similarity_mean_per_cell.mean().mean()) / style_similarity_mean_per_cell.std().std())\n",
    "\n",
    "# normalize style_similarity_mean_per_cell\n",
    "style_similarity_mean_per_cell = style_similarity_mean_per_cell.applymap(lambda x: (x - style_similarity_mean_per_cell.min().min()) / (style_similarity_mean_per_cell.max().max() - style_similarity_mean_per_cell.min().min()))\n",
    "\n",
    "# make style_similarity_mean_per_cell between -1 and 1\n",
    "style_similarity_mean_per_cell = style_similarity_mean_per_cell.applymap(lambda x: (x)-style_similarity_mean_per_cell.mean().mean())\n",
    "\n",
    "# plot value distribution\n",
    "plt.hist(style_similarity_mean_per_cell.values.flatten(), bins=20)\n",
    "plt.show()"
   ]
  },
  {
   "cell_type": "code",
   "execution_count": null,
   "metadata": {},
   "outputs": [],
   "source": [
    "fig, ax = plt.subplots(figsize=(10,10))\n",
    "sns.heatmap(style_similarity_mean_per_cell, ax=ax, cmap='viridis', annot=True, fmt='.2f', linewidths=.5, cbar=False)\n",
    "plt.show()"
   ]
  },
  {
   "cell_type": "code",
   "execution_count": null,
   "metadata": {},
   "outputs": [],
   "source": [
    "import networkx as nx\n",
    "\n",
    "# create a network graph\n",
    "G = nx.MultiGraph()\n",
    "\n",
    "# add nodes, the size is the number of beers per style, the colour is the colour_per_beer_type\n",
    "for style in avg_aromas_per_style.index:\n",
    "    if style == 'Other':\n",
    "        continue\n",
    "    size = len(merged_aromas_norm[merged_aromas_norm['meta_style'] == style])\n",
    "    colour = colour_per_beer_type[avg_aromas_per_style.index.tolist().index(style)]\n",
    "    G.add_node(style, size=size, colour=colour)\n",
    "\n",
    "# add edges, the width is the similarity between the styles, the colour is the aroma type\n",
    "\n",
    "for style1 in style_similarity_mean_per_cell.index:\n",
    "    for style2 in style_similarity_mean_per_cell.index:\n",
    "        i = 0\n",
    "        for aroma, col in dict_colour_aromas.items():\n",
    "            width = style_similarity.loc[style1, style2][i]\n",
    "            # normalise the width\n",
    "            width = width / style_similarity_mean_per_cell.loc[style1, style2].max()\n",
    "\n",
    "            if width != 0:\n",
    "                G.add_edge(style1, style2, width=width, colour=col)\n",
    "\n",
    "            i += 1\n",
    "    \n",
    "# draw the graph\n",
    "plt.figure(figsize=(10,10))\n",
    "pos = nx.spring_layout(G, k=0.5, iterations=50)\n",
    "node_size = [G.nodes[node]['size'] for node in G]\n",
    "node_colour = [G.nodes[node]['colour'] for node in G]\n",
    "\n",
    "edge_width = [G.edges[edge]['width'] for edge in G.edges]\n",
    "edge_colour = [G.edges[edge]['colour'] for edge in G.edges]\n",
    "\n",
    "nx.draw(G, pos, node_size=node_size, node_color=node_colour, edge_color=edge_colour, width=edge_width, with_labels=True)\n",
    "plt.show()"
   ]
  },
  {
   "cell_type": "code",
   "execution_count": null,
   "metadata": {},
   "outputs": [],
   "source": [
    "import networkx as nx\n",
    "\n",
    "# create a network graph\n",
    "G = nx.Graph()\n",
    "\n",
    "# add nodes, the size is the number of beers per style, the colour is the colour_per_beer_type\n",
    "for style in avg_aromas_per_style.index:\n",
    "    if style == 'Other':\n",
    "        continue\n",
    "    size = len(merged_aromas_norm[merged_aromas_norm['meta_style'] == style])\n",
    "    colour = colour_per_beer_type[avg_aromas_per_style.index.tolist().index(style)]\n",
    "    G.add_node(style, size=size, colour=colour)\n",
    "\n",
    "# add edges, the width is the similarity between the styles\n",
    "\n",
    "for style1 in style_similarity_mean_per_cell.index:\n",
    "    for style2 in style_similarity_mean_per_cell.index:\n",
    "        width = style_similarity_mean_per_cell.loc[style1, style2]\n",
    "\n",
    "        if width != 0:\n",
    "            G.add_edge(style1, style2, width=width*10)\n",
    "\n",
    "# draw the graph\n",
    "plt.figure(figsize=(10,10))\n",
    "pos = nx.spring_layout(G, k=0.5, iterations=50)\n",
    "node_size = [G.nodes[node]['size'] for node in G]\n",
    "node_colour = [G.nodes[node]['colour'] for node in G]\n",
    "\n",
    "edge_width = [G.edges[edge]['width'] for edge in G.edges]\n",
    "\n",
    "# draw in circular_layout\n",
    "nx.draw_circular(G, node_size=node_size, node_color=node_colour, width=edge_width, with_labels=True)\n",
    "plt.show()\n",
    "\n"
   ]
  },
  {
   "cell_type": "code",
   "execution_count": null,
   "metadata": {},
   "outputs": [],
   "source": [
    "bubble_data = pd.DataFrame(index=avg_aromas_per_style.index, columns=['size', 'colour'])\n",
    "bubble_data['size'] = [len(merged_aromas_norm[merged_aromas_norm['meta_style'] == style]) for style in avg_aromas_per_style.index]\n",
    "bubble_data['colour'] = [colour_per_beer_type[avg_aromas_per_style.index.tolist().index(style)] for style in avg_aromas_per_style.index]\n",
    "bubble_data = bubble_data.drop('Other', axis=0)\n",
    "bubble_data"
   ]
  },
  {
   "cell_type": "code",
   "execution_count": null,
   "metadata": {},
   "outputs": [],
   "source": [
    "style_similarity_mean_per_cell"
   ]
  },
  {
   "cell_type": "code",
   "execution_count": null,
   "metadata": {},
   "outputs": [],
   "source": [
    "import numpy as np\n",
    "import matplotlib.pyplot as plt\n",
    "\n",
    "id_to_style = {i: style for i, style in enumerate(style_similarity_mean_per_cell.index)}\n",
    "initial_index = np.array([[None,None,3,None,8],\n",
    "                 [None,None,4,10,2],\n",
    "                 [7,9,6,1,5],\n",
    "                 [None,None,None,0,None]])\n",
    "\n",
    "class Bubble:\n",
    "    def __init__(self, id, x, y, area, forces):\n",
    "        \n",
    "        self.id = id\n",
    "        self.area = area\n",
    "        self.force = forces\n",
    "        self.x = x\n",
    "        self.y = y\n",
    "        self.radius = np.sqrt(area / np.pi)\n",
    "    \n",
    "    def force_to(self, other):\n",
    "        # force between two bubbles\n",
    "        return self.force[other.id]\n",
    "    \n",
    "    def distance_to(self, other):\n",
    "        # Euclidean distance, take into consideration the radius of the bubbles\n",
    "        return np.sqrt((self.x - other.x)**2 + (self.y - other.y)**2) - (self.radius + other.radius)\n",
    "    \n",
    "    def gravity_to(self, other):\n",
    "        # gravity force\n",
    "        #print(\"bubble {} to bubble {}, with force {}, distance {}, gravity {}\".format(id_to_style[self.id], id_to_style[other.id], self.force_to(other), self.distance_to(other), self.force_to(other) / self.distance_to(other)**2))\n",
    "        return self.force_to(other) / (3*self.distance_to(other)**3)\n",
    "\n",
    "    def xy(self):\n",
    "        return np.array([self.x, self.y])\n",
    "\n",
    "class GravityBubbleChart:\n",
    "    def __init__(self, area, bubble_spacing=0, force = None, seed = 0):\n",
    "        \"\"\"\n",
    "        Setup for bubble collapse.\n",
    "\n",
    "        Parameters\n",
    "        ----------\n",
    "        area : array-like\n",
    "            Area of the bubbles.\n",
    "        bubble_spacing : float, default: 0\n",
    "            Minimal spacing between bubbles after collapsing.\n",
    "\n",
    "        Notes\n",
    "        -----\n",
    "        If \"area\" is sorted, the results might look weird.\n",
    "        \"\"\"\n",
    "        area = np.asarray(area)\n",
    "\n",
    "        self.bubble_spacing = bubble_spacing\n",
    "\n",
    "        self.nb_bubbles = len(area)\n",
    "\n",
    "        self.bubbles = []\n",
    "        # create an array of class Bubble\n",
    "        for i in range(self.nb_bubbles):\n",
    "            b = Bubble(i, 0, 0, area[i], force[i])\n",
    "            self.bubbles.append(b)\n",
    "        \n",
    "        self.bubbles = np.array(self.bubbles)\n",
    "\n",
    "        self.maxstep = 2 * np.array([b.radius for b in self.bubbles[:]]).max() + self.bubble_spacing\n",
    "        self.step_dist = self.maxstep / 2\n",
    "\n",
    "        # calculate a 4*5 grid of positions\n",
    "        gx, gy = np.meshgrid(np.linspace(0, 5, 5), np.linspace(0, 4, 4))\n",
    "\n",
    "        # randomize bubble positions, no repetitions\n",
    "        #np.random.seed(seed)\n",
    "        #random_id_list =  np.random.choice(self.nb_bubbles, self.nb_bubbles, replace=False)\n",
    "        \n",
    "        for b in self.bubbles[:]:\n",
    "            x_index = np.where(initial_index == b.id)[0][0]\n",
    "            y_index = np.where(initial_index == b.id)[1][0]\n",
    "            b.x = gx[x_index, y_index]*200\n",
    "            b.y = gy[x_index, y_index]*200\n",
    "\n",
    "        self.com = self.center_of_mass()\n",
    "\n",
    "    def center_of_mass(self):\n",
    "        return np.average(\n",
    "            np.array([b.xy() for b in self.bubbles[:]]), axis=0, weights=np.array([b.area for b in self.bubbles[:]])\n",
    "        )\n",
    "\n",
    "    def center_distance(self, bubble, bubbles):\n",
    "\n",
    "        if type(bubble) == np.ndarray:\n",
    "            if type(bubbles[0]) == np.ndarray:\n",
    "                return np.hypot(bubble[0] - np.array([b[0] for b in bubbles[:]]),\n",
    "                        bubble[1] - np.array([b[1] for b in bubbles[:]]))\n",
    "            else :\n",
    "                return np.hypot(bubble[0] - np.array([b.x for b in bubbles[:]]),\n",
    "                        bubble[1] - np.array([b.y for b in bubbles[:]]))\n",
    "        else:\n",
    "            if type(bubbles[0]) == np.ndarray:\n",
    "                return np.hypot(bubble.x - np.array([b[0] for b in bubbles[:]]),\n",
    "                        bubble.y - np.array([b[1] for b in bubbles[:]]))\n",
    "            return np.hypot(bubble.x - np.array([b.x for b in bubbles[:]]),\n",
    "                        bubble.y - np.array([b.y for b in bubbles[:]]))\n",
    "\n",
    "    def outline_distance(self, bubble, bubbles):\n",
    "        center_distance = self.center_distance(bubble, bubbles)\n",
    "        return center_distance - bubble.radius - \\\n",
    "            np.array([b.radius for b in bubbles[:]]) - self.bubble_spacing\n",
    "\n",
    "    def check_collisions(self, bubble, bubbles):\n",
    "        distance = self.outline_distance(bubble, bubbles)\n",
    "        return len(distance[distance < 0])\n",
    "\n",
    "    def collides_with(self, bubble, bubbles):\n",
    "        distance = self.outline_distance(bubble, bubbles)\n",
    "        idx_min = np.argmin(distance)\n",
    "        return idx_min if type(idx_min) == np.ndarray else [idx_min]\n",
    "\n",
    "    def calculate_distance_error(self):\n",
    "        # For each bubble add error to close bubbles with negative force, and remove error to close bubbles with positive force\n",
    "        error = 0\n",
    "        for i in range(self.nb_bubbles):\n",
    "            for j in range(self.nb_bubbles):\n",
    "                if i != j:\n",
    "                    error += self.bubbles[i].gravity_to(self.bubbles[j]) / self.outline_distance(self.bubbles[i], [self.bubbles[j]])\n",
    "        return error\n",
    "\n",
    "    def collapse(self, n_iterations=50):\n",
    "        \"\"\"\n",
    "        Move bubbles to the center of mass.\n",
    "\n",
    "        Parameters\n",
    "        ----------\n",
    "        n_iterations : int, default: 50\n",
    "            Number of moves to perform.\n",
    "        \"\"\"\n",
    "\n",
    "        for _i in range(n_iterations):\n",
    "\n",
    "            moves = 0\n",
    "\n",
    "            for i in range(self.nb_bubbles):\n",
    "\n",
    "                # remove bubble from list of bubbles\n",
    "                rest_bub = np.delete(self.bubbles, i, 0)\n",
    "\n",
    "                # try to move directly towards the center of mass with force attraction to other bubbles\n",
    "                # direction vector from bubble to the center of mass with force attraction to other bubbles\n",
    "\n",
    "                dir_vec = - self.bubbles[i].xy()\n",
    "                #dir_vec = self.com - self.bubbles[i].xy()\n",
    "                \n",
    "                for j in range(self.nb_bubbles):\n",
    "                    if j != i:\n",
    "                        attraction_force = self.bubbles[i].gravity_to(self.bubbles[j])\n",
    "                        # print(\"bubble \", id_to_style[self.bubbles[i].id], \" is attracted to \", id_to_style[self.bubbles[j].id], \" : \", attraction_force > 0)\n",
    "                        \n",
    "                        dir_vec += np.array([attraction_force*(self.bubbles[j].x - self.bubbles[i].x), attraction_force*(self.bubbles[j].y - self.bubbles[i].y)])\n",
    "                        \n",
    "                # shorten direction vector to have length of 1\n",
    "                dir_vec = dir_vec / np.sqrt(dir_vec.dot(dir_vec))\n",
    "\n",
    "                # calculate new bubble position\n",
    "                new_point = self.bubbles[i].xy() + dir_vec * self.step_dist\n",
    "                \n",
    "                new_bubble = Bubble(self.bubbles[i].id, new_point[0], new_point[1], self.bubbles[i].area, self.bubbles[i].force)\n",
    "\n",
    "                # check whether new bubble collides with other bubbles\n",
    "                # print type of rest_bub\n",
    "                \n",
    "                if not self.check_collisions(new_bubble, rest_bub):\n",
    "                    self.bubbles[i] = new_bubble\n",
    "                    self.com = self.center_of_mass()\n",
    "                    moves += 1\n",
    "                else:\n",
    "                    # try to move around a bubble that you collide with\n",
    "                    # find colliding bubble\n",
    "                    for colliding in self.collides_with(new_bubble, rest_bub):\n",
    "                        # calculate direction vector\n",
    "                        dir_vec = rest_bub[colliding].xy() - self.bubbles[i].xy()\n",
    "                        dir_vec = dir_vec / np.sqrt(dir_vec.dot(dir_vec))\n",
    "                        # calculate orthogonal vector\n",
    "                        orth = np.array([dir_vec[1], -dir_vec[0]])\n",
    "                        # test which direction to go\n",
    "                        new_point1 = (self.bubbles[i].xy() + orth *\n",
    "                                      self.step_dist)\n",
    "                        new_point2 = (self.bubbles[i].xy() - orth *\n",
    "                                      self.step_dist)\n",
    "\n",
    "                        dist1 = self.center_distance(\n",
    "                            self.com, np.array([new_point1]))\n",
    "                        dist2 = self.center_distance(\n",
    "                            self.com, np.array([new_point2]))\n",
    "                        new_point = new_point1 if dist1 < dist2 else new_point2\n",
    "\n",
    "                        new_bubble = Bubble(self.bubbles[i].id, new_point[0], new_point[1], self.bubbles[i].area, self.bubbles[i].force)\n",
    "\n",
    "                        if not self.check_collisions(new_bubble, rest_bub):\n",
    "                            self.bubbles[i] = new_bubble\n",
    "                            self.com = self.center_of_mass()\n",
    "\n",
    "            if moves / self.nb_bubbles < 0.1:\n",
    "                self.step_dist = self.step_dist / 2\n",
    "        \n",
    "    def plot(self, ax, labels, colors):\n",
    "        \"\"\"\n",
    "        Draw the bubble plot.\n",
    "\n",
    "        Parameters\n",
    "        ----------\n",
    "        ax : matplotlib.axes.Axes\n",
    "        labels : list\n",
    "            Labels of the bubbles.\n",
    "        colors : list\n",
    "            Colors of the bubbles.\n",
    "        \"\"\"\n",
    "        for i in range(self.nb_bubbles):\n",
    "\n",
    "            circ = plt.Circle(\n",
    "                self.bubbles[i].xy(), self.bubbles[i].radius, color=colors[i])\n",
    "            \n",
    "            ax.add_patch(circ)\n",
    "            ax.text(*self.bubbles[i].xy(), labels[i],\n",
    "                    horizontalalignment='center', verticalalignment='center')"
   ]
  },
  {
   "cell_type": "code",
   "execution_count": null,
   "metadata": {},
   "outputs": [],
   "source": [
    "# make a Packed bubble chart, where the size of the bubble is the number of beers per style, and the colour is the colour_per_beer_type. The bubbles are packed together,bubbles with high scores are closer together, and bubbles with low scores are further apart.\n",
    "\n",
    "bubble_chart = GravityBubbleChart(area=bubble_data['size'], bubble_spacing=0.1, force = style_similarity_mean_per_cell.to_numpy())"
   ]
  },
  {
   "cell_type": "code",
   "execution_count": null,
   "metadata": {},
   "outputs": [],
   "source": [
    "bubble_chart = GravityBubbleChart(area=bubble_data['size'], bubble_spacing=0.1, force = style_similarity_mean_per_cell.to_numpy(), seed = seed_list[error_list.index(min(error_list))] )\n",
    "bubble_chart.collapse(n_iterations=100)"
   ]
  },
  {
   "cell_type": "code",
   "execution_count": null,
   "metadata": {},
   "outputs": [],
   "source": [
    "fig, ax = plt.subplots(subplot_kw=dict(aspect=\"equal\"), figsize=(12, 12))\n",
    "bubble_chart.plot(\n",
    "    ax, style_similarity_mean_per_cell.index, bubble_data['colour'])\n",
    "ax.axis(\"off\")\n",
    "ax.relim()\n",
    "ax.autoscale_view()\n",
    "ax.set_title('Browser market share')\n",
    "\n",
    "plt.show()"
   ]
  },
  {
   "cell_type": "code",
   "execution_count": null,
   "metadata": {},
   "outputs": [],
   "source": [
    "fig, ax = plt.subplots(figsize=(10,10))\n",
    "sns.heatmap(style_similarity_mean_per_cell, ax=ax, cmap='viridis', annot=True, fmt='.2f', linewidths=.5, cbar=False)\n",
    "plt.show()"
   ]
  },
  {
   "cell_type": "code",
   "execution_count": null,
   "metadata": {},
   "outputs": [],
   "source": [
    "# group reviews by beer style and overall_step\n",
    "grouped_reviews = merged_reviews.groupby(['meta_style', 'overall_step']).agg({'overall': 'count'}).reset_index()\n",
    "grouped_reviews"
   ]
  },
  {
   "cell_type": "code",
   "execution_count": null,
   "metadata": {},
   "outputs": [],
   "source": []
  },
  {
   "cell_type": "code",
   "execution_count": null,
   "metadata": {},
   "outputs": [],
   "source": []
  }
 ],
 "metadata": {
  "kernelspec": {
   "display_name": "Python 3",
   "language": "python",
   "name": "python3"
  },
  "language_info": {
   "codemirror_mode": {
    "name": "ipython",
    "version": 3
   },
   "file_extension": ".py",
   "mimetype": "text/x-python",
   "name": "python",
   "nbconvert_exporter": "python",
   "pygments_lexer": "ipython3",
   "version": "3.10.11"
  },
  "orig_nbformat": 4
 },
 "nbformat": 4,
 "nbformat_minor": 2
}

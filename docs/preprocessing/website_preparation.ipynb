{
 "cells": [
  {
   "cell_type": "code",
   "execution_count": null,
   "metadata": {
    "collapsed": true
   },
   "outputs": [],
   "source": [
    "import pandas as pd\n",
    "import os\n",
    "from sklearn.linear_model import LinearRegression\n",
    "import numpy as np\n",
    "import matplotlib.pyplot as plt"
   ]
  },
  {
   "cell_type": "code",
   "execution_count": null,
   "outputs": [],
   "source": [
    "BEERS = pd.read_csv(os.path.join(\"..\", \"..\", \"data\", \"processed\", \"beers.csv\"))\n",
    "BEERS.head()"
   ],
   "metadata": {
    "collapsed": false
   }
  },
  {
   "cell_type": "markdown",
   "source": [
    "# Regression"
   ],
   "metadata": {
    "collapsed": false
   }
  },
  {
   "cell_type": "code",
   "execution_count": null,
   "outputs": [],
   "source": [
    "DATA = BEERS[[\"alcohol\", \"astringency\", \"bitter\", \"body\", \"fruits\", \"hoppy\", \"malty\", \"salty\", \"sour\", \"spices\", \"sweet\", \"ave_rating\"]].dropna()\n",
    "X = DATA[[\"alcohol\", \"astringency\", \"bitter\", \"body\", \"fruits\", \"hoppy\", \"malty\", \"salty\", \"sour\", \"spices\", \"sweet\"]]\n",
    "y = DATA[[\"ave_rating\"]]"
   ],
   "metadata": {
    "collapsed": false
   }
  },
  {
   "cell_type": "code",
   "execution_count": null,
   "outputs": [],
   "source": [
    "reg = LinearRegression().fit(X, y)"
   ],
   "metadata": {
    "collapsed": false
   }
  },
  {
   "cell_type": "code",
   "execution_count": null,
   "outputs": [],
   "source": [
    "plt.bar([\"alcohol\", \"astringency\", \"bitter\", \"body\", \"fruits\", \"hoppy\", \"malty\", \"salty\", \"sour\", \"spices\", \"sweet\"], reg.coef_[0])\n",
    "plt.xticks(rotation=90)\n",
    "plt.show()"
   ],
   "metadata": {
    "collapsed": false
   }
  },
  {
   "cell_type": "code",
   "execution_count": null,
   "outputs": [],
   "source": [
    "pd.DataFrame(zip([\"alcohol\", \"astringency\", \"bitter\", \"body\", \"fruits\", \"hoppy\", \"malty\", \"salty\", \"sour\", \"spices\", \"sweet\"],reg.coef_[0])).to_csv(os.path.join(\"..\", \"..\", \"data\", \"website_preparation\", \"regression_coeffs.csv\"), header=False, index=False)"
   ],
   "metadata": {
    "collapsed": false
   }
  },
  {
   "cell_type": "markdown",
   "source": [
    "# Gravity Balls"
   ],
   "metadata": {
    "collapsed": false
   }
  },
  {
   "cell_type": "code",
   "execution_count": null,
   "outputs": [],
   "source": [
    "aromes = [\"astringency\", \"bitter\", \"body\", \"fruits\", \"sour\"]\n",
    "DATA = BEERS[[\"meta_style\", *aromes]]\n",
    "DATA = DATA[DATA[\"meta_style\"] != \"Other\"]\n",
    "DATA = DATA[DATA[\"meta_style\"] != \"alcohol-free\"]\n",
    "DATA[aromes] = DATA[aromes].apply(lambda x: (x - x.mean()) / x.std())\n",
    "DATA = DATA.groupby(\"meta_style\").mean()\n",
    "DATA[\"posx\"] = 100*np.random.random(size=[DATA.shape[0],1])-50\n",
    "DATA[\"posy\"] = 100*np.random.random(size=[DATA.shape[0],1])-50\n",
    "plt.scatter(DATA[\"posx\"], DATA[\"posy\"])\n",
    "for (xi, yi, ni) in zip(DATA[\"posx\"], DATA[\"posy\"], DATA.index):\n",
    "    plt.text(xi, yi, ni, va='bottom', ha='center')\n",
    "plt.show()"
   ],
   "metadata": {
    "collapsed": false
   }
  },
  {
   "cell_type": "code",
   "execution_count": null,
   "outputs": [],
   "source": [
    "def dist(x,y,method=\"cos\"):\n",
    "    if method == \"cos\":\n",
    "        return x.dot(y)/(np.linalg.norm(x)*np.linalg.norm(y))\n",
    "    if method == \"euclid\":\n",
    "        return np.linalg.norm(x-y)\n",
    "\n",
    "distance_matrix = np.zeros([DATA.shape[0],DATA.shape[0]])\n",
    "for i in range(DATA.shape[0]):\n",
    "    for j in range(i,DATA.shape[0]):\n",
    "        d = dist(\n",
    "            np.array(DATA[aromes].iloc[i,:]),\n",
    "            np.array(DATA[aromes].iloc[j,:]),\n",
    "            method = \"euclid\"\n",
    "        )\n",
    "        distance_matrix[i,j] = d\n",
    "        distance_matrix[j,i] = d"
   ],
   "metadata": {
    "collapsed": false
   }
  },
  {
   "cell_type": "code",
   "execution_count": null,
   "outputs": [],
   "source": [
    "attract = 10\n",
    "repuls = 1\n",
    "stepsize = 0.01\n",
    "step = []\n",
    "for _ in range(1000):\n",
    "    temp = 0\n",
    "    for i in range(DATA.shape[0]):\n",
    "        dx = np.zeros([2])\n",
    "        for j in range(DATA.shape[0]):\n",
    "            if i != j and np.random.rand() > 0.02:\n",
    "                dist = np.array([DATA[\"posx\"].iloc[j] - DATA[\"posx\"].iloc[i], DATA[\"posy\"].iloc[j] - DATA[\"posy\"].iloc[i]])\n",
    "                dx -= repuls / np.linalg.norm(dist) * dist / np.linalg.norm(dist)\n",
    "                dx += attract / distance_matrix[i,j] * dist\n",
    "        DATA[\"posx\"].iloc[i] += stepsize*dx[0]\n",
    "        DATA[\"posy\"].iloc[i] += stepsize*dx[1]\n",
    "        temp += stepsize*stepsize*dx.dot(dx)\n",
    "    step.append(temp)\n",
    "    if temp < 1e-8:\n",
    "        break\n",
    "plt.plot(step)\n",
    "plt.yscale('log')\n",
    "plt.show()"
   ],
   "metadata": {
    "collapsed": false
   }
  },
  {
   "cell_type": "code",
   "execution_count": null,
   "outputs": [],
   "source": [
    "DATA[[\"posx\", \"posy\"]] = DATA[[\"posx\", \"posy\"]].apply(lambda x: (x - x.mean()) / x.std())\n",
    "plt.scatter(DATA[\"posx\"], DATA[\"posy\"])\n",
    "for (xi, yi, ni) in zip(DATA[\"posx\"], DATA[\"posy\"], DATA.index):\n",
    "    plt.text(xi, yi, ni, va='bottom', ha='center')\n",
    "plt.show()"
   ],
   "metadata": {
    "collapsed": false
   }
  },
  {
   "cell_type": "code",
   "execution_count": null,
   "outputs": [],
   "source": [
    "pd.DataFrame(DATA[[\"posx\",\"posy\"]]).to_csv(os.path.join(\"..\", \"..\", \"data\", \"website_preparation\", \"balls_pos.csv\"), header=False, index=True)"
   ],
   "metadata": {
    "collapsed": false
   }
  },
  {
   "cell_type": "code",
   "execution_count": null,
   "outputs": [],
   "source": [],
   "metadata": {
    "collapsed": false
   }
  }
 ],
 "metadata": {
  "kernelspec": {
   "display_name": "Python 3",
   "language": "python",
   "name": "python3"
  },
  "language_info": {
   "codemirror_mode": {
    "name": "ipython",
    "version": 2
   },
   "file_extension": ".py",
   "mimetype": "text/x-python",
   "name": "python",
   "nbconvert_exporter": "python",
   "pygments_lexer": "ipython2",
   "version": "2.7.6"
  }
 },
 "nbformat": 4,
 "nbformat_minor": 0
}

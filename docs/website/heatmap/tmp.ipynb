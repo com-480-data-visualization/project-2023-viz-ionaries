{
 "cells": [
  {
   "cell_type": "code",
   "execution_count": 4,
   "metadata": {},
   "outputs": [
    {
     "name": "stdout",
     "output_type": "stream",
     "text": [
      "180\n",
      "left : -11.2\n",
      "top : 0.40000000000000063\n",
      "210\n",
      "left : -10.530127018922194\n",
      "top : -2.1000000000000005\n",
      "240\n",
      "left : -8.700000000000003\n",
      "top : -3.930127018922193\n",
      "270\n",
      "left : -6.200000000000001\n",
      "top : -4.6\n",
      "300\n",
      "left : -3.6999999999999997\n",
      "top : -3.930127018922193\n",
      "330\n",
      "left : -1.8698729810778083\n",
      "top : -2.1000000000000023\n",
      "360\n",
      "left : -1.2000000000000002\n",
      "top : 0.3999999999999988\n",
      "390\n",
      "left : -1.8698729810778074\n",
      "top : 2.9\n",
      "420\n",
      "left : -3.7000000000000015\n",
      "top : 4.730127018922195\n",
      "450\n",
      "left : -6.199999999999998\n",
      "top : 5.4\n",
      "480\n",
      "left : -8.699999999999996\n",
      "top : 4.730127018922196\n",
      "510\n",
      "left : -10.530127018922194\n",
      "top : 2.899999999999999\n"
     ]
    }
   ],
   "source": [
    "import math\n",
    "\n",
    "radius = 5\n",
    "top_offset = 0.4\n",
    "left_offset = -1.2\n",
    "\n",
    "for angle in range(180, 511, 30):\n",
    "    print(angle)\n",
    "    x = radius * math.cos(math.radians(angle))\n",
    "    y = radius * math.sin(math.radians(angle))\n",
    "\n",
    "    print(\"left : \" + str(left_offset + x))\n",
    "    print(\"top : \" + str(top_offset + y))"
   ]
  },
  {
   "cell_type": "code",
   "execution_count": null,
   "metadata": {},
   "outputs": [],
   "source": []
  }
 ],
 "metadata": {
  "kernelspec": {
   "display_name": "Python 3",
   "language": "python",
   "name": "python3"
  },
  "language_info": {
   "codemirror_mode": {
    "name": "ipython",
    "version": 3
   },
   "file_extension": ".py",
   "mimetype": "text/x-python",
   "name": "python",
   "nbconvert_exporter": "python",
   "pygments_lexer": "ipython3",
   "version": "3.9.13"
  },
  "orig_nbformat": 4
 },
 "nbformat": 4,
 "nbformat_minor": 2
}

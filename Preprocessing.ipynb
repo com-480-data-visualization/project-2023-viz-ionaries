{
 "cells": [
  {
   "cell_type": "markdown",
   "id": "a6737eef",
   "metadata": {},
   "source": [
    "# Preprocessing"
   ]
  },
  {
   "cell_type": "code",
   "execution_count": null,
   "id": "6041b028",
   "metadata": {},
   "outputs": [],
   "source": [
    "import pandas as pd"
   ]
  },
  {
   "cell_type": "code",
   "execution_count": null,
   "id": "99b666a1",
   "metadata": {},
   "outputs": [],
   "source": [
    "reviews = pd.read_csv('data/raw/reviews.csv', parse_dates=[\"date\"])\n",
    "reviews = reviews.applymap(lambda x: x.lower() if isinstance(x, str) else x)\n",
    "reviews.head()"
   ]
  },
  {
   "cell_type": "code",
   "execution_count": null,
   "id": "8ee8f231",
   "metadata": {},
   "outputs": [],
   "source": [
    "# load breweries and transform the 'types' into a one-hot encoding representation\n",
    "breweries = pd.read_csv('data/raw/breweries.csv', index_col=\"id\")\n",
    "breweries[\"brewery_type_bar\"] = breweries[\"types\"].apply(lambda x: int(\"bar\" in x.lower()))\n",
    "breweries[\"brewery_type_beer_to_go\"] = breweries[\"types\"].apply(lambda x: int(\"to-go\" in x.lower()))\n",
    "breweries[\"brewery_type_eatery\"] = breweries[\"types\"].apply(lambda x: int(\"eatery\" in x.lower()))\n",
    "breweries[\"brewery_type_homebrew\"] = breweries[\"types\"].apply(lambda x: int(\"homebrew\" in x.lower()))\n",
    "breweries[\"brewery_type_brewery\"] = breweries[\"types\"].apply(lambda x: int(\"brewery\" in x.lower()))\n",
    "breweries[\"brewery_type_store\"] = breweries[\"types\"].apply(lambda x: int(\"store\" in x.lower()))\n",
    "breweries = breweries.drop(columns=[\"types\", \"notes\"])\n",
    "breweries = breweries.rename(columns={\"name\":\"brewery_name\"})\n",
    "breweries = breweries.applymap(lambda x: x.lower() if isinstance(x, str) else x)\n",
    "breweries.head()"
   ]
  },
  {
   "cell_type": "code",
   "execution_count": null,
   "id": "b259b1c8",
   "metadata": {},
   "outputs": [],
   "source": [
    "beers = pd.read_csv('data/raw/beers.csv')\n",
    "beers = beers.drop(columns=[\"state\", \"country\", \"notes\"])\n",
    "beers = beers.rename(columns={\"style\":\"style_detailed\"})\n",
    "beers = beers.applymap(lambda x: x.lower() if isinstance(x, str) else x)\n",
    "beers[\"retired\"] = beers[\"retired\"].apply(lambda x: int(x=='t'))\n",
    "beers.head()"
   ]
  },
  {
   "cell_type": "code",
   "execution_count": null,
   "id": "8977f506",
   "metadata": {},
   "outputs": [],
   "source": [
    "aromas = pd.read_csv('data/raw/beer_data_set.csv', index_col=\"key\")\n",
    "aromas = aromas.applymap(lambda x: x.lower() if isinstance(x, str) else x)\n",
    "aromas = aromas.rename(lambda x: \"_\".join(x.lower().split()), axis=1)\n",
    "aromas = aromas.drop(columns=[\"style_key\"])\n",
    "aromas.head()"
   ]
  },
  {
   "cell_type": "code",
   "execution_count": null,
   "id": "bb900804",
   "metadata": {},
   "outputs": [],
   "source": [
    "# merge beers with their respective breweries, dropping element which cannot be matched\n",
    "beers = beers.merge(breweries, left_on=\"brewery_id\", right_index=True, how=\"inner\")\n",
    "beers = beers.drop(columns=[\"brewery_id\"])\n",
    "print(beers.shape)\n",
    "beers.head()"
   ]
  },
  {
   "cell_type": "code",
   "execution_count": null,
   "id": "9ad33b73",
   "metadata": {},
   "outputs": [],
   "source": [
    "beers = beers.merge(aromas, left_on=[\"name\", \"brewery_name\", \"abv\"], right_on=[\"name\", \"brewery\", \"abv\"], how=\"inner\")\n",
    "print(beers.shape)\n",
    "beers.head()"
   ]
  },
  {
   "cell_type": "code",
   "execution_count": null,
   "id": "0092ad1e",
   "metadata": {},
   "outputs": [],
   "source": [
    "from utils.beer_metastyles import metastyle_beer_dict\n",
    "\n",
    "# Create a new column for meta_style\n",
    "beers['meta_style'] = beers['style']\n",
    "\n",
    "# Create a function to find the metastyle\n",
    "\n",
    "def find_metastyle(specific_style):\n",
    "    for metastyle, beer_substyles in metastyle_beer_dict.items():\n",
    "        for beer_substyle_keyword in beer_substyles:\n",
    "            if beer_substyle_keyword in specific_style:\n",
    "                return metastyle\n",
    "    \n",
    "    return 'Other'\n",
    "\n",
    "# Iterate through the styles to find the metastyle\n",
    "beers['meta_style'] = beers['style'].apply(find_metastyle)\n",
    "beers = beers[\n",
    "    [\n",
    "        \"id\", \"name\", \"abv\",\n",
    "        \"meta_style\", \"style\", \"style_detailed\",\n",
    "        \"min_ibu\", \"max_ibu\", \"alcohol\", \"astringency\", \"bitter\", \"body\", \"fruits\", \"hoppy\", \"malty\", \"salty\", \"sour\", \"spices\", \"sweet\",\n",
    "        \"brewery_name\", \"city\", \"state\", \"country\", \n",
    "            \"brewery_type_bar\", \"brewery_type_beer_to_go\", \"brewery_type_eatery\", \"brewery_type_homebrew\", \"brewery_type_brewery\", \"brewery_type_store\",\n",
    "        \"availability\", \"retired\", \"ave_rating\"\n",
    "        \n",
    "    ]\n",
    "]"
   ]
  },
  {
   "cell_type": "code",
   "execution_count": null,
   "id": "c9ddec78",
   "metadata": {},
   "outputs": [],
   "source": [
    "print(reviews.shape)\n",
    "reviews = reviews[reviews[\"beer_id\"].isin(beers.index)]\n",
    "print(reviews.shape)"
   ]
  },
  {
   "cell_type": "code",
   "execution_count": null,
   "id": "3ee96254",
   "metadata": {},
   "outputs": [],
   "source": [
    "for col in [\"look\", \"smell\", \"taste\", \"feel\", \"overall\", \"score\"]:\n",
    "    beers[\"rating_reviews_\"+col] = beers[\"id\"].apply(lambda x: reviews[reviews[\"beer_id\"] == x][col].median(skipna=True))\n",
    "beers.head()"
   ]
  },
  {
   "cell_type": "code",
   "execution_count": null,
   "id": "dc61447c",
   "metadata": {},
   "outputs": [],
   "source": [
    "beers.to_csv(\"data/processed/beers.csv\", index=False)"
   ]
  },
  {
   "cell_type": "code",
   "execution_count": null,
   "id": "f841effa",
   "metadata": {},
   "outputs": [],
   "source": [
    "reviews.to_csv(\"data/processed/reviews.csv\", index=False)"
   ]
  },
  {
   "cell_type": "code",
   "execution_count": null,
   "id": "36d3551e",
   "metadata": {},
   "outputs": [],
   "source": []
  }
 ],
 "metadata": {
  "kernelspec": {
   "display_name": "Python 3 (ipykernel)",
   "language": "python",
   "name": "python3"
  },
  "language_info": {
   "codemirror_mode": {
    "name": "ipython",
    "version": 3
   },
   "file_extension": ".py",
   "mimetype": "text/x-python",
   "name": "python",
   "nbconvert_exporter": "python",
   "pygments_lexer": "ipython3",
   "version": "3.10.10"
  }
 },
 "nbformat": 4,
 "nbformat_minor": 5
}

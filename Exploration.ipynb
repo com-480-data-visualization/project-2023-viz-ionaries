{
 "cells": [
  {
   "cell_type": "code",
   "execution_count": null,
   "id": "bee7c3fb",
   "metadata": {},
   "outputs": [],
   "source": [
    "import pandas as pd\n",
    "import matplotlib.pyplot as plt\n",
    "import numpy as np\n",
    "import seaborn as sns "
   ]
  },
  {
   "cell_type": "markdown",
   "id": "d29312c8",
   "metadata": {},
   "source": [
    "# Loading the data"
   ]
  },
  {
   "cell_type": "code",
   "execution_count": null,
   "id": "2fef33ca",
   "metadata": {
    "scrolled": true
   },
   "outputs": [],
   "source": [
    "beers = pd.read_csv(\"data/processed/beers.csv\", index_col=\"id\")\n",
    "beers.head()"
   ]
  },
  {
   "cell_type": "markdown",
   "id": "dc46b731",
   "metadata": {},
   "source": [
    "# Looking at the data"
   ]
  },
  {
   "cell_type": "code",
   "execution_count": null,
   "id": "72faef56",
   "metadata": {},
   "outputs": [],
   "source": [
    "ax = beers.abv.hist()\n",
    "_ = ax.set_title(\"alcohol volume percentage\")"
   ]
  },
  {
   "cell_type": "code",
   "execution_count": null,
   "id": "1ccd76eb",
   "metadata": {
    "scrolled": true
   },
   "outputs": [],
   "source": [
    "ax = beers.boxplot(column=['alcohol', 'astringency', 'bitter', 'body', 'fruits', 'hoppy', 'malty', 'salty', 'sour', 'spices', 'sweet'], figsize=(10,6))\n",
    "_ = ax.set_title(\"aroma perceptions\")"
   ]
  },
  {
   "cell_type": "code",
   "execution_count": null,
   "id": "12b0dade",
   "metadata": {},
   "outputs": [],
   "source": [
    "beers[['brewery_type_bar', 'brewery_type_beer_to_go',\n",
    "       'brewery_type_eatery', 'brewery_type_homebrew', 'brewery_type_brewery',\n",
    "       'brewery_type_store']].sum()"
   ]
  },
  {
   "cell_type": "code",
   "execution_count": null,
   "id": "f0bec427",
   "metadata": {},
   "outputs": [],
   "source": [
    "ax = beers[\"country\"].value_counts().plot(kind='bar', figsize=(10,5))\n",
    "_ = ax.set_title(\"Country of origin\")\n",
    "plt.yscale('log')"
   ]
  },
  {
   "cell_type": "code",
   "execution_count": null,
   "id": "2ca33bac",
   "metadata": {},
   "outputs": [],
   "source": [
    "ax = beers.hist(column=['ave_rating', 'rating_reviews_score'])"
   ]
  },
  {
   "cell_type": "code",
   "execution_count": null,
   "id": "6afc51a8",
   "metadata": {
    "scrolled": true
   },
   "outputs": [],
   "source": [
    "ax = beers.hist(column=['rating_reviews_look', 'rating_reviews_smell', 'rating_reviews_taste',\n",
    "       'rating_reviews_feel', 'rating_reviews_overall'], figsize=(6,4))\n",
    "plt.tight_layout()\n",
    "plt.show()"
   ]
  },
  {
   "cell_type": "code",
   "execution_count": null,
   "id": "d173a6ba",
   "metadata": {},
   "outputs": [],
   "source": [
    "ax = beers[\"meta_style\"].value_counts().plot(kind='bar', figsize=(10,5))\n",
    "_ = ax.set_title(\"meta_styles\")\n",
    "plt.yscale('log')"
   ]
  },
  {
   "cell_type": "markdown",
   "id": "94a9eb52",
   "metadata": {},
   "source": [
    "# Preliminary analysis"
   ]
  },
  {
   "cell_type": "markdown",
   "id": "b631475d",
   "metadata": {},
   "source": [
    "### Is there a flavour difference between the best and worse rated beers for each metastyle ?"
   ]
  },
  {
   "cell_type": "code",
   "execution_count": null,
   "id": "652f7575",
   "metadata": {},
   "outputs": [],
   "source": [
    "nb_beers = 20\n",
    "\n",
    "# get the best rated nb_beers beers in each meta_style\n",
    "best_beers_per_style = beers.sort_values('ave_rating', ascending=False).groupby('meta_style').head(nb_beers)\n",
    "worse_beers_per_style = beers.sort_values('ave_rating', ascending=True).groupby('meta_style').head(nb_beers)\n",
    "\n",
    "aroma_columns =  ['astringency', 'body',\n",
    "       'alcohol', 'bitter', 'sweet', 'sour', 'salty', 'fruits', 'hoppy',\n",
    "       'spices', 'malty']\n",
    "\n",
    "# get the average aromatic profile of each meta_style\n",
    "best_beers_per_style_mean = best_beers_per_style.groupby('meta_style').mean()[aroma_columns]\n",
    "worse_beers_per_style_mean = worse_beers_per_style.groupby('meta_style').mean()[aroma_columns]"
   ]
  },
  {
   "cell_type": "code",
   "execution_count": null,
   "id": "5a41631d",
   "metadata": {},
   "outputs": [],
   "source": [
    "# plot on spider chart per style with the mean best and worse beer aromatic profile\n",
    "nb_plot_columns = 4\n",
    "nb_plot_rows = len(best_beers_per_style_mean.index) // nb_plot_columns + 1\n",
    "\n",
    "fig, ax = plt.subplots(nb_plot_rows, nb_plot_columns, figsize=(20, 20))\n",
    "\n",
    "\n",
    "for i, meta_style in enumerate(best_beers_per_style_mean.index):\n",
    "\n",
    "    # ------- PART 1: Create background\n",
    "    col = i % nb_plot_columns\n",
    "    row = i // nb_plot_columns\n",
    "    \n",
    "    # number of variable\n",
    "    categories=list(best_beers_per_style_mean)\n",
    "    N = len(aroma_columns)\n",
    "    \n",
    "    # What will be the angle of each axis in the plot? (we divide the plot / number of variable)\n",
    "    angles = [n / float(N) * 2 * np.pi for n in range(N)]\n",
    "    angles += angles[:1]\n",
    "    \n",
    "    # Initialise the spider plot\n",
    "    ax[row, col] = plt.subplot(nb_plot_rows, nb_plot_columns, i+1, polar=True)\n",
    "\n",
    "    # If you want the first axis to be on top:\n",
    "    ax[row, col].set_theta_offset(np.pi / 2)\n",
    "    ax[row, col].set_theta_direction(-1)\n",
    "    \n",
    "    # Draw one axe per variable + add labels\n",
    "    plt.xticks(angles[:-1], categories, color='grey', size=8)\n",
    "\n",
    "    \n",
    "    # Draw ylabels\n",
    "    ax[row, col].set_rlabel_position(0)\n",
    "    plt.yticks([30,60,90,120], [\"30\",\"60\",\"90\",\"120\"], color=\"grey\", size=7)\n",
    "    plt.ylim(0,150)\n",
    "\n",
    "\n",
    "    # ------- PART 2: Add plots\n",
    "    \n",
    "    # Plot each individual = each line of the data\n",
    "    # I don't make a loop, because plotting more than 3 groups makes the chart unreadable\n",
    "    \n",
    "    # Ind1\n",
    "    values=best_beers_per_style_mean.loc[meta_style].values.flatten().tolist()\n",
    "    values += values[:1]\n",
    "    ax[row, col].plot(angles, values, linewidth=1, linestyle='solid', label=\"Best rated beers\")\n",
    "    ax[row, col].fill(angles, values, 'b', alpha=0.1)\n",
    "\n",
    "    # Ind2\n",
    "    values=worse_beers_per_style_mean.loc[meta_style].values.flatten().tolist()\n",
    "    values += values[:1]\n",
    "    ax[row, col].plot(angles, values, linewidth=1, linestyle='solid', label=\"Worse rated beers\")\n",
    "    ax[row, col].fill(angles, values, 'r', alpha=0.1)\n",
    "\n",
    "    # Add title and make background white\n",
    "    ax[row, col].set_title(meta_style, size=11, y=1.1)\n",
    "    ax[row, col].set_facecolor('white')\n",
    "\n",
    "# Add legend\n",
    "plt.legend(loc='upper right', bbox_to_anchor=(0.1, 0.1))\n",
    "\n",
    "# Show the graph\n",
    "plt.tight_layout()\n",
    "\n",
    "# Make background color white\n",
    "fig.patch.set_facecolor('white')\n",
    "\n",
    "# remove empty plots\n",
    "for i in range(len(best_beers_per_style_mean.index), nb_plot_columns * nb_plot_rows):\n",
    "    col = i % nb_plot_columns\n",
    "    row = i // nb_plot_columns\n",
    "    fig.delaxes(ax[row, col])\n",
    "\n",
    "plt.show()"
   ]
  },
  {
   "cell_type": "markdown",
   "id": "de14d374",
   "metadata": {},
   "source": [
    "### Which country makes what type of beer best ?"
   ]
  },
  {
   "cell_type": "code",
   "execution_count": null,
   "id": "73bd31ff",
   "metadata": {},
   "outputs": [],
   "source": [
    "# display in a bar chart the average rating of each meta_style per country, only display countries with more than 100 beers\n",
    "\n",
    "# get the average rating of each meta_style per country\n",
    "meta_style_per_country = beers.groupby(['country', 'meta_style'])['ave_rating'].mean().reset_index()\n",
    "\n",
    "# get the number of beers per country\n",
    "nb_beers_per_country = beers.groupby('country')[\"name\"].count().reset_index()\n",
    "\n",
    "# merge the two dataframes\n",
    "meta_style_per_country = meta_style_per_country.merge(nb_beers_per_country, on='country')\n",
    "\n",
    "# keep only countries with more than 100 beers\n",
    "\n",
    "meta_style_per_country = meta_style_per_country[meta_style_per_country['name'] > 100]\n",
    "# drop germany\n",
    "meta_style_per_country = meta_style_per_country[meta_style_per_country['country'] != 'DE']\n",
    "\n",
    "# remove fruit and pils\n",
    "meta_style_per_country = meta_style_per_country[meta_style_per_country['meta_style'] != 'Fruit']\n",
    "meta_style_per_country = meta_style_per_country[meta_style_per_country['meta_style'] != 'Pilsner']\n",
    "\n",
    "# plot the average rating of each meta_style per country\n",
    "sns.catplot(x=\"meta_style\", y=\"ave_rating\", hue=\"country\", data=meta_style_per_country, kind=\"bar\", height=10, aspect=2, palette=\"muted\")"
   ]
  },
  {
   "cell_type": "code",
   "execution_count": null,
   "id": "18709bed",
   "metadata": {},
   "outputs": [],
   "source": []
  },
  {
   "cell_type": "markdown",
   "id": "1575f2db",
   "metadata": {},
   "source": []
  }
 ],
 "metadata": {
  "kernelspec": {
   "display_name": "Python 3 (ipykernel)",
   "language": "python",
   "name": "python3"
  },
  "language_info": {
   "codemirror_mode": {
    "name": "ipython",
    "version": 3
   },
   "file_extension": ".py",
   "mimetype": "text/x-python",
   "name": "python",
   "nbconvert_exporter": "python",
   "pygments_lexer": "ipython3",
   "version": "3.10.10"
  }
 },
 "nbformat": 4,
 "nbformat_minor": 5
}
